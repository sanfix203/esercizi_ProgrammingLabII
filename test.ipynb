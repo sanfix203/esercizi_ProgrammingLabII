{
 "cells": [
  {
   "cell_type": "code",
   "execution_count": null,
   "id": "94f9056a",
   "metadata": {},
   "outputs": [],
   "source": [
    "# fig, ax = plt.subplots(2, 1)\n",
    "# for pclass in sorted(df[\"Pclass\"].unique()):\n",
    "#     subset = df[df[\"Pclass\"] == pclass]\n",
    "#     ax[0].hist(subset[\"Age\"], bins=20, alpha=0.6,\n",
    "#              label=f\"{pclass}\")\n",
    "# ax[0].legend()\n",
    "\n",
    "# for pclass in sorted(df[\"Pclass\"].unique()):\n",
    "#     for s in df[\"Sex\"].unique():\n",
    "#         subset = df[(df[\"Pclass\"] == pclass) & (df[\"Sex\"]==s)]\n",
    "#         ax[1].hist(subset[\"Age\"].dropna(),\n",
    "#                  bins=20,\n",
    "#                  color=\"red\" if s==\"female\" else \"blue\",\n",
    "#                  histtype='step',\n",
    "#                  label=f\"{pclass} - {s.capitalize()}\")\n",
    "# ax[1].legend()\n",
    "# plt.tight_layout()"
   ]
  }
 ],
 "metadata": {
  "kernelspec": {
   "display_name": "Python 3",
   "language": "python",
   "name": "python3"
  },
  "language_info": {
   "name": "python",
   "version": "3.11.2"
  }
 },
 "nbformat": 4,
 "nbformat_minor": 5
}
