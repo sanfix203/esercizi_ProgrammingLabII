{
 "cells": [
  {
   "cell_type": "markdown",
   "metadata": {},
   "source": [
    "### **1.Consumo di alcol per paese** \n",
    "Esegui un’**analisi esplorativa** focalizzata sul **consumo di alcol**.  \n",
    "Analizza i seguenti aspetti:\n",
    "* Visualizza i primi 10 paesi ordinati per total_litres_of_pure_alcohol (dal più alto)\n",
    "\n",
    "* Calcola la media del consumo di birra, vino, e distillati\n",
    "\n",
    "* Crea una nuova colonna alcohol_index che sia: `(beer_servings + wine_servings + spirit_servings) / 3`\n",
    "\n",
    "* Trova il paese con il valore massimo di alcohol_index\n",
    "\n",
    "* Filtra solo i paesi che consumano più di 100 birre all’anno\n",
    "\n",
    "Crea un bar chart dei 10 paesi con più consumo totale (total_litres_of_pure_alcohol)\n",
    "\n",
    "Crea un line plot con wine_servings ordinato per paese (usa sort_values)"
   ]
  },
  {
   "cell_type": "code",
   "execution_count": null,
   "metadata": {},
   "outputs": [],
   "source": [
    "# Lettura del dataset\n",
    "import pandas as pd\n",
    "from sys import exit\n",
    "try:\n",
    "    df = pd.read_csv(\"https://raw.githubusercontent.com/fivethirtyeight/data/master/alcohol-consumption/drinks.csv\")\n",
    "except Exception as e:\n",
    "    exit(\"Error: \" + str(e))\n",
    "df\n"
   ]
  },
  {
   "cell_type": "code",
   "execution_count": null,
   "metadata": {},
   "outputs": [],
   "source": [
    "# Primi 10 paesi per litri totali di alcol puro\n",
    "df_by_alcolhol = df.sort_values(by=\"total_litres_of_pure_alcohol\", ascending=False).head(10)\n",
    "df_by_alcolhol"
   ]
  },
  {
   "cell_type": "code",
   "execution_count": null,
   "metadata": {},
   "outputs": [],
   "source": [
    "# Media per tipo di bevanda alcolica\n",
    "beer_average = int(df[\"beer_servings\"].mean())\n",
    "wine_average = int(df[\"wine_servings\"].mean())\n",
    "spirit_average = int(df[\"spirit_servings\"].mean())\n",
    "print(f\"Media beer_servings: {beer_average}\\nMedia wine_servings: {wine_average}\\nMedia spirit_servings: {spirit_average}\")"
   ]
  },
  {
   "cell_type": "code",
   "execution_count": null,
   "metadata": {},
   "outputs": [],
   "source": [
    "# Aggiunta di una nuova colonna\n",
    "df[\"alcohol_index\"] = round((df[\"beer_servings\"] + df[\"wine_servings\"] + df[\"spirit_servings\"]) / 3, 2)\n",
    "df"
   ]
  },
  {
   "cell_type": "code",
   "execution_count": null,
   "metadata": {},
   "outputs": [],
   "source": [
    "# Paese con il punteggio più alto per l'alcol index\n",
    "df.sort_values(by=\"alcohol_index\", ascending=False).head(1)"
   ]
  },
  {
   "cell_type": "code",
   "execution_count": null,
   "metadata": {},
   "outputs": [],
   "source": [
    "# Filtraggio dei paesi con più di 100 birre servite\n",
    "df[df[\"beer_servings\"] > 100]"
   ]
  },
  {
   "cell_type": "code",
   "execution_count": null,
   "metadata": {},
   "outputs": [],
   "source": [
    "import matplotlib.pyplot as plt\n",
    "df_by_alcolhol.plot(kind=\"bar\", x=\"country\", y=\"total_litres_of_pure_alcohol\", color=\"blue\")"
   ]
  },
  {
   "cell_type": "markdown",
   "metadata": {},
   "source": [
    "### **2.Analisi offerte di lavoro** \n",
    "\n",
    "Esegui un’**analisi esplorativa** focalizzata sui **lavori nel campo dei dati in ciascun paese**.  \n",
    "Analizza i seguenti aspetti per ogni paese:\n",
    "\n",
    "* Lo **stipendio medio annuale** (`salary_year_avg`)\n",
    "* Il **numero totale di offerte di lavoro** (job count)\n",
    "* L’intervallo degli stipendi: **valore minimo e massimo** (`min` / `max`)\n",
    "\n",
    "Rappresenta graficamente lo stipendio medio (`salary_year_avg`) per `job_title_short` usando un grafico a barre orizzontali. Ordina i dati dallo stipendio più alto al più basso. Includi un titolo e le etichette per gli assi x e y."
   ]
  },
  {
   "cell_type": "code",
   "execution_count": null,
   "metadata": {},
   "outputs": [],
   "source": [
    "import pandas as pd\n",
    "from datasets import load_dataset\n",
    "import random\n",
    "\n",
    "job_titles = [random.choice(['Software Engineer', 'Data Scientist', 'Product Manager', 'UX Designer', 'DevOps Engineer']) for _ in range(100)]\n",
    "company = [random.choice(['Google', 'Facebook', 'Amazon', 'Apple', 'Microsoft']) for _ in range(100)]\n",
    "Description = [random.choice(['Full-time', 'Part-time', 'Internship']) for _ in range(100)]\n",
    "Location = [random.choice(['Remote', 'On-site', 'Hybrid']) for _ in range(100)]\n",
    "Salary_min = [random.randint(50000, 150000) for _ in range(100)]\n",
    "Salary_max = [random.randint(50000, 150000) for _ in range(100)]\n",
    "Date_posted = [random.choice(['2023-01-01', '2023-02-15', '2023-03-10', '2023-04-20', '2023-05-30']) for _ in range(100)]\n",
    "url = [random.choice(['https://example.com/job1', 'https://example.com/job2', 'https://example.com/job3']) for _ in range(100)]\n",
    "df = pd.DataFrame({\n",
    "    'job_title': job_titles,\n",
    "    'company': company,\n",
    "    'job_description': Description,\n",
    "    'location': Location,\n",
    "    'salary_min': Salary_min,\n",
    "    'salary_max': Salary_max,\n",
    "    'job_posted_date': Date_posted,\n",
    "    'url': url\n",
    "})\n",
    "\n",
    "df['job_posted_date'] = pd.to_datetime(df['job_posted_date'])\n",
    "df"
   ]
  },
  {
   "cell_type": "code",
   "execution_count": 6,
   "metadata": {},
   "outputs": [
    {
     "ename": "KeyError",
     "evalue": "'Columns not found: 103170.5, 93188.5, 130053.0, 104966.0, 78852.5, 86024.0, 66820.5, 93958.5, 66823.5, 139018.0, 65803.5, 94478.0, 129040.5, 85778.5, 82453.5, 110363.0, 93216.5, 72995.0, 120870.5, 85545.5, 94506.5, 103979.0, 64299.0, 101934.0, 138798.5, 88879.0, 126515.0, 104757.5, 94266.0, 137018.5, 90947.5, 86596.5, 84807.5, 109901.0, 81487.5, 123727.5, 98128.5, 77395.0, 118613.5, 67934.0, 149087.0, 90463.5, 104287.5, 65377.0, 111980.5, 68719.5, 114544.0, 91507.5, 86387.5, 110710.0, 111990.5, 138360.0, 102011.0, 99715.5, 108169.0, 102028.5, 107150.5, 111249.0, 112017.0, 85657.0, 109465.0, 129946.5, 89757.0, 96163.0, 83626.0, 117675.0, 99243.5, 73648.5, 70066.5, 99514.0, 91069.0, 61119.5, 95168.5, 68545.5, 90308.5, 61637.5, 76486.0, 104905.5, 128717.5, 107727.5, 105680.5, 113103.5, 106450.5, 130010.5, 137947.0, 81117.0, 112350.5, 115942.5, 61415.0, 92910.5, 125938.5, 124915.0, 62196.0, 94712.5, 78841.5, 107002.5, 89339.5, 97020.0, 107005.0, 80127.5'",
     "output_type": "error",
     "traceback": [
      "\u001b[31m---------------------------------------------------------------------------\u001b[39m",
      "\u001b[31mKeyError\u001b[39m                                  Traceback (most recent call last)",
      "\u001b[36mCell\u001b[39m\u001b[36m \u001b[39m\u001b[32mIn[6]\u001b[39m\u001b[32m, line 2\u001b[39m\n\u001b[32m      1\u001b[39m \u001b[38;5;66;03m# average salary by location\u001b[39;00m\n\u001b[32m----> \u001b[39m\u001b[32m2\u001b[39m \u001b[43mdf\u001b[49m\u001b[43m.\u001b[49m\u001b[43mgroupby\u001b[49m\u001b[43m(\u001b[49m\u001b[33;43m'\u001b[39;49m\u001b[33;43mlocation\u001b[39;49m\u001b[33;43m'\u001b[39;49m\u001b[43m)\u001b[49m\u001b[43m[\u001b[49m\u001b[43m(\u001b[49m\u001b[43mdf\u001b[49m\u001b[43m[\u001b[49m\u001b[33;43m\"\u001b[39;49m\u001b[33;43msalary_min\u001b[39;49m\u001b[33;43m\"\u001b[39;49m\u001b[43m]\u001b[49m\u001b[43m+\u001b[49m\u001b[43mdf\u001b[49m\u001b[43m[\u001b[49m\u001b[33;43m\"\u001b[39;49m\u001b[33;43msalary_max\u001b[39;49m\u001b[33;43m\"\u001b[39;49m\u001b[43m]\u001b[49m\u001b[43m)\u001b[49m\u001b[43m/\u001b[49m\u001b[32;43m2\u001b[39;49m\u001b[43m]\u001b[49m\n",
      "\u001b[36mFile \u001b[39m\u001b[32mc:\\Users\\sanfi\\.conda\\envs\\test\\Lib\\site-packages\\pandas\\core\\groupby\\generic.py:1951\u001b[39m, in \u001b[36mDataFrameGroupBy.__getitem__\u001b[39m\u001b[34m(self, key)\u001b[39m\n\u001b[32m   1944\u001b[39m \u001b[38;5;28;01mif\u001b[39;00m \u001b[38;5;28misinstance\u001b[39m(key, \u001b[38;5;28mtuple\u001b[39m) \u001b[38;5;129;01mand\u001b[39;00m \u001b[38;5;28mlen\u001b[39m(key) > \u001b[32m1\u001b[39m:\n\u001b[32m   1945\u001b[39m     \u001b[38;5;66;03m# if len == 1, then it becomes a SeriesGroupBy and this is actually\u001b[39;00m\n\u001b[32m   1946\u001b[39m     \u001b[38;5;66;03m# valid syntax, so don't raise\u001b[39;00m\n\u001b[32m   1947\u001b[39m     \u001b[38;5;28;01mraise\u001b[39;00m \u001b[38;5;167;01mValueError\u001b[39;00m(\n\u001b[32m   1948\u001b[39m         \u001b[33m\"\u001b[39m\u001b[33mCannot subset columns with a tuple with more than one element. \u001b[39m\u001b[33m\"\u001b[39m\n\u001b[32m   1949\u001b[39m         \u001b[33m\"\u001b[39m\u001b[33mUse a list instead.\u001b[39m\u001b[33m\"\u001b[39m\n\u001b[32m   1950\u001b[39m     )\n\u001b[32m-> \u001b[39m\u001b[32m1951\u001b[39m \u001b[38;5;28;01mreturn\u001b[39;00m \u001b[38;5;28;43msuper\u001b[39;49m\u001b[43m(\u001b[49m\u001b[43m)\u001b[49m\u001b[43m.\u001b[49m\u001b[34;43m__getitem__\u001b[39;49m\u001b[43m(\u001b[49m\u001b[43mkey\u001b[49m\u001b[43m)\u001b[49m\n",
      "\u001b[36mFile \u001b[39m\u001b[32mc:\\Users\\sanfi\\.conda\\envs\\test\\Lib\\site-packages\\pandas\\core\\base.py:239\u001b[39m, in \u001b[36mSelectionMixin.__getitem__\u001b[39m\u001b[34m(self, key)\u001b[39m\n\u001b[32m    237\u001b[39m     \u001b[38;5;28;01mif\u001b[39;00m \u001b[38;5;28mlen\u001b[39m(\u001b[38;5;28mself\u001b[39m.obj.columns.intersection(key)) != \u001b[38;5;28mlen\u001b[39m(\u001b[38;5;28mset\u001b[39m(key)):\n\u001b[32m    238\u001b[39m         bad_keys = \u001b[38;5;28mlist\u001b[39m(\u001b[38;5;28mset\u001b[39m(key).difference(\u001b[38;5;28mself\u001b[39m.obj.columns))\n\u001b[32m--> \u001b[39m\u001b[32m239\u001b[39m         \u001b[38;5;28;01mraise\u001b[39;00m \u001b[38;5;167;01mKeyError\u001b[39;00m(\u001b[33mf\u001b[39m\u001b[33m\"\u001b[39m\u001b[33mColumns not found: \u001b[39m\u001b[38;5;132;01m{\u001b[39;00m\u001b[38;5;28mstr\u001b[39m(bad_keys)[\u001b[32m1\u001b[39m:-\u001b[32m1\u001b[39m]\u001b[38;5;132;01m}\u001b[39;00m\u001b[33m\"\u001b[39m)\n\u001b[32m    240\u001b[39m     \u001b[38;5;28;01mreturn\u001b[39;00m \u001b[38;5;28mself\u001b[39m._gotitem(\u001b[38;5;28mlist\u001b[39m(key), ndim=\u001b[32m2\u001b[39m)\n\u001b[32m    242\u001b[39m \u001b[38;5;28;01melse\u001b[39;00m:\n",
      "\u001b[31mKeyError\u001b[39m: 'Columns not found: 103170.5, 93188.5, 130053.0, 104966.0, 78852.5, 86024.0, 66820.5, 93958.5, 66823.5, 139018.0, 65803.5, 94478.0, 129040.5, 85778.5, 82453.5, 110363.0, 93216.5, 72995.0, 120870.5, 85545.5, 94506.5, 103979.0, 64299.0, 101934.0, 138798.5, 88879.0, 126515.0, 104757.5, 94266.0, 137018.5, 90947.5, 86596.5, 84807.5, 109901.0, 81487.5, 123727.5, 98128.5, 77395.0, 118613.5, 67934.0, 149087.0, 90463.5, 104287.5, 65377.0, 111980.5, 68719.5, 114544.0, 91507.5, 86387.5, 110710.0, 111990.5, 138360.0, 102011.0, 99715.5, 108169.0, 102028.5, 107150.5, 111249.0, 112017.0, 85657.0, 109465.0, 129946.5, 89757.0, 96163.0, 83626.0, 117675.0, 99243.5, 73648.5, 70066.5, 99514.0, 91069.0, 61119.5, 95168.5, 68545.5, 90308.5, 61637.5, 76486.0, 104905.5, 128717.5, 107727.5, 105680.5, 113103.5, 106450.5, 130010.5, 137947.0, 81117.0, 112350.5, 115942.5, 61415.0, 92910.5, 125938.5, 124915.0, 62196.0, 94712.5, 78841.5, 107002.5, 89339.5, 97020.0, 107005.0, 80127.5'"
     ]
    }
   ],
   "source": [
    "# average salary by location\n",
    "df.groupby('location')[(df[\"salary_min\"]+df[\"salary_max\"])/2]\n"
   ]
  }
 ],
 "metadata": {
  "kernelspec": {
   "display_name": "test",
   "language": "python",
   "name": "python3"
  },
  "language_info": {
   "codemirror_mode": {
    "name": "ipython",
    "version": 3
   },
   "file_extension": ".py",
   "mimetype": "text/x-python",
   "name": "python",
   "nbconvert_exporter": "python",
   "pygments_lexer": "ipython3",
   "version": "3.12.9"
  }
 },
 "nbformat": 4,
 "nbformat_minor": 2
}
