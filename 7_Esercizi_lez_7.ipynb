{
 "cells": [
  {
   "cell_type": "markdown",
   "id": "25c2e0fa",
   "metadata": {},
   "source": [
    "### Es 1\n",
    "Hai a disposizione un file `data.csv` contenente dati mensili di passeggeri con due colonne:\n",
    "\n",
    "- `date`: data in formato `YYYY-MM` (mese/anno)\n",
    "- `passengers`: numero di passeggeri per quel mese\n",
    "\n",
    "\n",
    "Costruisci un modello di **regressione polinomiale** che approssima l’andamento del numero di passeggeri nel tempo.\n",
    "\n",
    "1. Carica il dataset.\n",
    "2. Convertilo in un formato numerico utilizzando una colonna `mese_numerico` che conti i mesi a partire da gennaio 1949.\n",
    "3. Applica una regressione polinomiale (grado a tua scelta).\n",
    "4. Calcola l’RMSE tra i valori reali e quelli predetti.\n",
    "5. Visualizza i dati reali e la curva stimata con Plotly."
   ]
  },
  {
   "cell_type": "code",
   "execution_count": 46,
   "id": "e05dd39e",
   "metadata": {},
   "outputs": [],
   "source": [
    "import numpy as np\n",
    "import pandas as pd\n",
    "import scipy as sp\n",
    "import matplotlib.pyplot as plt\n",
    "from math import sqrt\n",
    "import plotly.graph_objects as go"
   ]
  },
  {
   "cell_type": "code",
   "execution_count": 6,
   "id": "709cc6b7",
   "metadata": {},
   "outputs": [],
   "source": [
    "df = pd.read_csv(\"localdataset/data.csv\")\n",
    "df[\"date\"] = pd.to_datetime(df[\"date\"])\n",
    "df.dropna(inplace=True)\n",
    "df[\"mese_numerico\"] = df[\"date\"].dt.month + 12*(df[\"date\"].dt.year-df[\"date\"].dt.year.min())"
   ]
  },
  {
   "cell_type": "code",
   "execution_count": 42,
   "id": "efd7094f",
   "metadata": {},
   "outputs": [],
   "source": [
    "def rmse(y, pred):\n",
    "    y = np.asarray(y)\n",
    "    if len(y)!=len(pred):\n",
    "        raise ValueError(\"Arrays are different length\")\n",
    "    return sqrt(sum([(y[i]-pred[i])**2 for i in range(len(y))])/len(y))"
   ]
  },
  {
   "cell_type": "code",
   "execution_count": null,
   "id": "c5150e70",
   "metadata": {},
   "outputs": [],
   "source": [
    "def plot_reg(x, y, degree):\n",
    "    coefficients = np.polyfit(x, y, degree)\n",
    "    poly_fun = np.poly1d(coefficients)\n",
    "    domain = np.linspace(x.min(), x.max(), 100)\n",
    "    y_pred = poly_fun(domain)\n",
    "    y_pred_low_domain = poly_fun(x)\n",
    "    print(f\"rmse: {rmse(y, y_pred_low_domain)}\")\n",
    "    # plt.plot(domain, y_pred)\n",
    "    # plt.xticks(x[::30], labels=df[\"date\"].iloc[::30].dt.strftime(\"%Y-%m\"))\n",
    "    fig = go.Figure()\n",
    "    fig.add_trace(go.Scatter(x=df[\"mese_numerico\"], y=df[\"passengers\"],\n",
    "                         mode='markers', name='Dati'))\n",
    "    fig.add_trace(go.Scatter(x=domain, y=y_pred,\n",
    "                         mode='lines', name=f'Regressione grado {degree}'))\n",
    "    fig.update_layout(title=\"Regressione\",\n",
    "                  xaxis_title=\"Data\",\n",
    "                  yaxis_title=\"Passeggeri\",\n",
    "\n",
    "                  template=\"plotly_white\")\n",
    "    tickvals = df[\"date\"].iloc[::10]\n",
    "    ticktext = df[\"date\"].iloc[::10].dt.strftime(\"%Y-%m\")\n",
    "    fig.update_xaxes(\n",
    "        tickvals=tickvals,       # Dove posizionare i tick\n",
    "        ticktext=ticktext        # Quali etichette mostrare\n",
    "    )\n",
    "    fig.show()"
   ]
  },
  {
   "cell_type": "code",
   "execution_count": null,
   "id": "17e23816",
   "metadata": {},
   "outputs": [
    {
     "name": "stdout",
     "output_type": "stream",
     "text": [
      "rmse: 44.45027656808772\n"
     ]
    },
    {
     "data": {
      "application/vnd.plotly.v1+json": {
       "config": {
        "plotlyServerURL": "https://plot.ly"
       },
       "data": [
        {
         "mode": "markers",
         "name": "Dati",
         "type": "scatter",
         "x": {
          "bdata": "AQAAAAIAAAADAAAABAAAAAUAAAAGAAAABwAAAAgAAAAJAAAACgAAAAsAAAAMAAAADQAAAA4AAAAPAAAAEAAAABEAAAASAAAAEwAAABQAAAAVAAAAFgAAABcAAAAYAAAAGQAAABoAAAAbAAAAHAAAAB0AAAAeAAAAHwAAACAAAAAhAAAAIgAAACMAAAAkAAAAJQAAACYAAAAnAAAAKAAAACkAAAAqAAAAKwAAACwAAAAtAAAALgAAAC8AAAAwAAAAMQAAADIAAAAzAAAANAAAADUAAAA2AAAANwAAADgAAAA5AAAAOgAAADsAAAA8AAAASQAAAEoAAABLAAAATAAAAE0AAABOAAAATwAAAFAAAABRAAAAUgAAAFMAAABUAAAAVQAAAFYAAABXAAAAWAAAAFkAAABaAAAAWwAAAFwAAABdAAAAXgAAAF8AAABgAAAAYQAAAGIAAABjAAAAZAAAAGUAAABmAAAAZwAAAGgAAABpAAAAagAAAGsAAABsAAAAbQAAAG4AAABvAAAAcAAAAHEAAAByAAAAcwAAAHQAAAB1AAAAdgAAAHcAAAB4AAAAeQAAAHoAAAB7AAAAfAAAAH0AAAB+AAAAfwAAAIAAAACBAAAAggAAAIMAAACEAAAAhQAAAIYAAACHAAAAiAAAAIkAAACKAAAAiwAAAIwAAACNAAAAjgAAAJAAAAA=",
          "dtype": "i4"
         },
         "y": {
          "bdata": "AAAAAAAAXEAAAAAAAIBdQAAAAAAAgGBAAAAAAAAgYEAAAAAAAEBeQAAAAAAA4GBAAAAAAACAYkAAAAAAAIBiQAAAAAAAAGFAAAAAAADAXUAAAAAAAABaQAAAAAAAgF1AAAAAAADAXEAAAAAAAIBfQAAAAAAAoGFAAAAAAADgYEAAAAAAAEBfQAAAAAAAoGJAAAAAAABAZUAAAAAAAEBlQAAAAAAAwGNAAAAAAACgYEAAAAAAAIBcQAAAAAAAgGFAAAAAAAAgYkAAAAAAAMBiQAAAAAAAQGZAAAAAAABgZEAAAAAAAIBlQAAAAAAAQGZAAAAAAADgaEAAAAAAAOBoQAAAAAAAAGdAAAAAAABAZEAAAAAAAEBiQAAAAAAAwGRAAAAAAABgZUAAAAAAAIBmQAAAAAAAIGhAAAAAAACgZkAAAAAAAOBmQAAAAAAAQGtAAAAAAADAbEAAAAAAAEBuQAAAAAAAIGpAAAAAAADgZ0AAAAAAAIBlQAAAAAAAQGhAAAAAAACAaEAAAAAAAIBoQAAAAAAAgG1AAAAAAABgbUAAAAAAAKBsQAAAAAAAYG5AAAAAAACAcEAAAAAAAABxQAAAAAAAoG1AAAAAAABgakAAAAAAAIBmQAAAAAAAIGlAAAAAAABAbkAAAAAAACBtQAAAAAAAsHBAAAAAAADQcEAAAAAAAOBwQAAAAAAAsHNAAAAAAADAdkAAAAAAALB1QAAAAAAAgHNAAAAAAAAgcUAAAAAAAKBtQAAAAAAAYHFAAAAAAADAcUAAAAAAAFBxQAAAAAAA0HNAAAAAAACQc0AAAAAAAOBzQAAAAAAAYHdAAAAAAADQeUAAAAAAAFB5QAAAAAAAMHZAAAAAAAAgc0AAAAAAAPBwQAAAAAAAIHNAAAAAAACwc0AAAAAAANByQAAAAAAAQHZAAAAAAADAdUAAAAAAADB2QAAAAAAAYHpAAAAAAAAQfUAAAAAAADB9QAAAAAAAQHlAAAAAAACwdUAAAAAAABBzQAAAAAAAAHVAAAAAAABAdUAAAAAAAOBzQAAAAAAAoHZAAAAAAADAdUAAAAAAALB2QAAAAAAAMHtAAAAAAACwfkAAAAAAAJB/QAAAAAAAQHlAAAAAAABwdkAAAAAAAGBzQAAAAAAAEHVAAAAAAACAdkAAAAAAAGB1QAAAAAAAYHlAAAAAAADAeEAAAAAAAEB6QAAAAAAAgH1AAAAAAAAggUAAAAAAAHiBQAAAAAAA8HxAAAAAAABweUAAAAAAAKB2QAAAAAAAUHlAAAAAAAAQekAAAAAAAHB4QAAAAAAAMHpAAAAAAADQfEAAAAAAAIB9QAAAAAAAuIBAAAAAAABwg0AAAAAAAPCCQAAAAAAAwH9AAAAAAADQfEAAAAAAAAB7QA==",
          "dtype": "f8"
         }
        },
        {
         "mode": "lines",
         "name": "Regressione grado 2",
         "type": "scatter",
         "x": {
          "bdata": "AAAAAAAA8D/kOI7jOI4DQMdxHMdxHA9AVVVVVVVVFUDHcRzHcRwbQBzHcRzHcSBAVVVVVVVVI0CO4ziO4zgmQMdxHMdxHClAAAAAAAAALEA5juM4juMuQDmO4ziO4zBAVVVVVVVVMkByHMdxHMczQI7jOI7jODVAq6qqqqqqNkDHcRzHcRw4QOM4juM4jjlAAAAAAAAAO0Acx3Ecx3E8QDmO4ziO4z1AVVVVVVVVP0A5juM4jmNAQMdxHMdxHEFAVVVVVVXVQUDjOI7jOI5CQHIcx3EcR0NAAAAAAAAARECO4ziO47hEQBzHcRzHcUVAq6qqqqoqRkA5juM4juNGQMdxHMdxnEdAVVVVVVVVSEDjOI7jOA5JQHIcx3Ecx0lAAAAAAACASkCO4ziO4zhLQBzHcRzH8UtAq6qqqqqqTEA5juM4jmNNQMdxHMdxHE5AVVVVVVXVTkDjOI7jOI5PQDmO4ziOI1BAAAAAAACAUEDHcRzHcdxQQI7jOI7jOFFAVVVVVVWVUUAcx3Ecx/FRQOM4juM4TlJAq6qqqqqqUkByHMdxHAdTQDmO4ziOY1NAAAAAAADAU0DHcRzHcRxUQI7jOI7jeFRAVVVVVVXVVEAcx3EcxzFVQOM4juM4jlVAq6qqqqrqVUByHMdxHEdWQDmO4ziOo1ZAAAAAAAAAV0DHcRzHcVxXQI7jOI7juFdAVVVVVVUVWEAcx3Ecx3FYQOM4juM4zlhAq6qqqqoqWUByHMdxHIdZQDmO4ziO41lAAAAAAABAWkDHcRzHcZxaQI7jOI7j+FpAVVVVVVVVW0Acx3Ecx7FbQOM4juM4DlxAq6qqqqpqXEByHMdxHMdcQDmO4ziOI11AAAAAAACAXUDHcRzHcdxdQI7jOI7jOF5AVVVVVVWVXkAcx3Ecx/FeQOM4juM4Tl9Aq6qqqqqqX0A5juM4jgNgQBzHcRzHMWBAAAAAAABgYEDjOI7jOI5gQMdxHMdxvGBAq6qqqqrqYECO4ziO4xhhQHIcx3EcR2FAVVVVVVV1YUA5juM4jqNhQBzHcRzH0WFAAAAAAAAAYkA=",
          "dtype": "f8"
         },
         "y": {
          "bdata": "/TncBj2jXECbokQnRz5dQP/2UMY2211AKzcB5At6XkAeY1WAxhpfQNl6TZtmvV9ALb90GvYwYEDRtpSmK4RgQFmkBvJT2GBAxYfK/G4tYUAUYeDGfINhQEYwSFB92mFAXPUBmXAyYkBWsA2hVotiQDRha2gv5WJA9Acb7/o/Y0CZpBw1uZtjQCE3cDpq+GNAjL8V/w1WZEDcPQ2DpLRkQA6yVsYtFGVAJBzyyKl0ZUAefN+KGNZlQPzRHgx6OGZAvR2wTM6bZkBhX5NMFQBnQOqWyAtPZWdAVsRPinvLZ0Cl5yjImjJoQNgAVMWsmmhA7g/RgbEDaUDoFKD9qG1pQMYPwTiT2GlAhwA0M3BEakAs5/jsP7FqQLXDD2YCH2tAIJZ4nreNa0BwXjOWX/1rQKMcQE36bWxAutCew4ffbEC0ek/5B1JtQJIaUu56xW1AUrCmouA5bkD3O00WOa9uQIG9RUmEJW9A7TSQO8Kcb0AeUZZ2eQpwQLiCDS8LR3BAQ68tRxaEcEDA1va+msFwQC/5aJaY/3BAkBaEzQ8+cUDjLkhkAH1xQCdCtVpqvHFAXVDLsE38cUCFWYpmqjxyQJ5d8nuAfXJAqlwD8c++ckCnVr3FmABzQJZLIPraQnNAeDssjpaFc0BKJuGBy8hzQA4MP9V5DHRAxexFiKFQdEBsyPWaQpV0QAafTg1d2nRAknBQ3/AfdUAPPfsQ/mV1QH4ET6KErHVA4MZLk4TzdUAyhPHj/Tp2QHg8QJTwgnZAre83pFzLdkDVndgTQhR3QO9GIuOgXXdA+uoUEnmnd0D4ibCgyvF3QOcj9Y6VPHhAyLji3NmHeECbSHmKl9N4QGDTuJfOH3lAFlmhBH9seUC+2TLRqLl5QFhVbf1LB3pA5MtQiWhVekBhPd10/qN6QNCpEsAN83pAMhHxapZCe0CFc3h1mJJ7QMnQqN8T43tAACmCqQg0fEAofATTdoV8QELKL1xe13xAThMERb8pfUBMV4GNmXx9QDyWpzXtz31AHNB2PbojfkDvBO+kAHh+QLM0EGzAzH5Aa1/akvkhf0A=",
          "dtype": "f8"
         }
        }
       ],
       "layout": {
        "template": {
         "data": {
          "bar": [
           {
            "error_x": {
             "color": "#2a3f5f"
            },
            "error_y": {
             "color": "#2a3f5f"
            },
            "marker": {
             "line": {
              "color": "white",
              "width": 0.5
             },
             "pattern": {
              "fillmode": "overlay",
              "size": 10,
              "solidity": 0.2
             }
            },
            "type": "bar"
           }
          ],
          "barpolar": [
           {
            "marker": {
             "line": {
              "color": "white",
              "width": 0.5
             },
             "pattern": {
              "fillmode": "overlay",
              "size": 10,
              "solidity": 0.2
             }
            },
            "type": "barpolar"
           }
          ],
          "carpet": [
           {
            "aaxis": {
             "endlinecolor": "#2a3f5f",
             "gridcolor": "#C8D4E3",
             "linecolor": "#C8D4E3",
             "minorgridcolor": "#C8D4E3",
             "startlinecolor": "#2a3f5f"
            },
            "baxis": {
             "endlinecolor": "#2a3f5f",
             "gridcolor": "#C8D4E3",
             "linecolor": "#C8D4E3",
             "minorgridcolor": "#C8D4E3",
             "startlinecolor": "#2a3f5f"
            },
            "type": "carpet"
           }
          ],
          "choropleth": [
           {
            "colorbar": {
             "outlinewidth": 0,
             "ticks": ""
            },
            "type": "choropleth"
           }
          ],
          "contour": [
           {
            "colorbar": {
             "outlinewidth": 0,
             "ticks": ""
            },
            "colorscale": [
             [
              0,
              "#0d0887"
             ],
             [
              0.1111111111111111,
              "#46039f"
             ],
             [
              0.2222222222222222,
              "#7201a8"
             ],
             [
              0.3333333333333333,
              "#9c179e"
             ],
             [
              0.4444444444444444,
              "#bd3786"
             ],
             [
              0.5555555555555556,
              "#d8576b"
             ],
             [
              0.6666666666666666,
              "#ed7953"
             ],
             [
              0.7777777777777778,
              "#fb9f3a"
             ],
             [
              0.8888888888888888,
              "#fdca26"
             ],
             [
              1,
              "#f0f921"
             ]
            ],
            "type": "contour"
           }
          ],
          "contourcarpet": [
           {
            "colorbar": {
             "outlinewidth": 0,
             "ticks": ""
            },
            "type": "contourcarpet"
           }
          ],
          "heatmap": [
           {
            "colorbar": {
             "outlinewidth": 0,
             "ticks": ""
            },
            "colorscale": [
             [
              0,
              "#0d0887"
             ],
             [
              0.1111111111111111,
              "#46039f"
             ],
             [
              0.2222222222222222,
              "#7201a8"
             ],
             [
              0.3333333333333333,
              "#9c179e"
             ],
             [
              0.4444444444444444,
              "#bd3786"
             ],
             [
              0.5555555555555556,
              "#d8576b"
             ],
             [
              0.6666666666666666,
              "#ed7953"
             ],
             [
              0.7777777777777778,
              "#fb9f3a"
             ],
             [
              0.8888888888888888,
              "#fdca26"
             ],
             [
              1,
              "#f0f921"
             ]
            ],
            "type": "heatmap"
           }
          ],
          "histogram": [
           {
            "marker": {
             "pattern": {
              "fillmode": "overlay",
              "size": 10,
              "solidity": 0.2
             }
            },
            "type": "histogram"
           }
          ],
          "histogram2d": [
           {
            "colorbar": {
             "outlinewidth": 0,
             "ticks": ""
            },
            "colorscale": [
             [
              0,
              "#0d0887"
             ],
             [
              0.1111111111111111,
              "#46039f"
             ],
             [
              0.2222222222222222,
              "#7201a8"
             ],
             [
              0.3333333333333333,
              "#9c179e"
             ],
             [
              0.4444444444444444,
              "#bd3786"
             ],
             [
              0.5555555555555556,
              "#d8576b"
             ],
             [
              0.6666666666666666,
              "#ed7953"
             ],
             [
              0.7777777777777778,
              "#fb9f3a"
             ],
             [
              0.8888888888888888,
              "#fdca26"
             ],
             [
              1,
              "#f0f921"
             ]
            ],
            "type": "histogram2d"
           }
          ],
          "histogram2dcontour": [
           {
            "colorbar": {
             "outlinewidth": 0,
             "ticks": ""
            },
            "colorscale": [
             [
              0,
              "#0d0887"
             ],
             [
              0.1111111111111111,
              "#46039f"
             ],
             [
              0.2222222222222222,
              "#7201a8"
             ],
             [
              0.3333333333333333,
              "#9c179e"
             ],
             [
              0.4444444444444444,
              "#bd3786"
             ],
             [
              0.5555555555555556,
              "#d8576b"
             ],
             [
              0.6666666666666666,
              "#ed7953"
             ],
             [
              0.7777777777777778,
              "#fb9f3a"
             ],
             [
              0.8888888888888888,
              "#fdca26"
             ],
             [
              1,
              "#f0f921"
             ]
            ],
            "type": "histogram2dcontour"
           }
          ],
          "mesh3d": [
           {
            "colorbar": {
             "outlinewidth": 0,
             "ticks": ""
            },
            "type": "mesh3d"
           }
          ],
          "parcoords": [
           {
            "line": {
             "colorbar": {
              "outlinewidth": 0,
              "ticks": ""
             }
            },
            "type": "parcoords"
           }
          ],
          "pie": [
           {
            "automargin": true,
            "type": "pie"
           }
          ],
          "scatter": [
           {
            "fillpattern": {
             "fillmode": "overlay",
             "size": 10,
             "solidity": 0.2
            },
            "type": "scatter"
           }
          ],
          "scatter3d": [
           {
            "line": {
             "colorbar": {
              "outlinewidth": 0,
              "ticks": ""
             }
            },
            "marker": {
             "colorbar": {
              "outlinewidth": 0,
              "ticks": ""
             }
            },
            "type": "scatter3d"
           }
          ],
          "scattercarpet": [
           {
            "marker": {
             "colorbar": {
              "outlinewidth": 0,
              "ticks": ""
             }
            },
            "type": "scattercarpet"
           }
          ],
          "scattergeo": [
           {
            "marker": {
             "colorbar": {
              "outlinewidth": 0,
              "ticks": ""
             }
            },
            "type": "scattergeo"
           }
          ],
          "scattergl": [
           {
            "marker": {
             "colorbar": {
              "outlinewidth": 0,
              "ticks": ""
             }
            },
            "type": "scattergl"
           }
          ],
          "scattermap": [
           {
            "marker": {
             "colorbar": {
              "outlinewidth": 0,
              "ticks": ""
             }
            },
            "type": "scattermap"
           }
          ],
          "scattermapbox": [
           {
            "marker": {
             "colorbar": {
              "outlinewidth": 0,
              "ticks": ""
             }
            },
            "type": "scattermapbox"
           }
          ],
          "scatterpolar": [
           {
            "marker": {
             "colorbar": {
              "outlinewidth": 0,
              "ticks": ""
             }
            },
            "type": "scatterpolar"
           }
          ],
          "scatterpolargl": [
           {
            "marker": {
             "colorbar": {
              "outlinewidth": 0,
              "ticks": ""
             }
            },
            "type": "scatterpolargl"
           }
          ],
          "scatterternary": [
           {
            "marker": {
             "colorbar": {
              "outlinewidth": 0,
              "ticks": ""
             }
            },
            "type": "scatterternary"
           }
          ],
          "surface": [
           {
            "colorbar": {
             "outlinewidth": 0,
             "ticks": ""
            },
            "colorscale": [
             [
              0,
              "#0d0887"
             ],
             [
              0.1111111111111111,
              "#46039f"
             ],
             [
              0.2222222222222222,
              "#7201a8"
             ],
             [
              0.3333333333333333,
              "#9c179e"
             ],
             [
              0.4444444444444444,
              "#bd3786"
             ],
             [
              0.5555555555555556,
              "#d8576b"
             ],
             [
              0.6666666666666666,
              "#ed7953"
             ],
             [
              0.7777777777777778,
              "#fb9f3a"
             ],
             [
              0.8888888888888888,
              "#fdca26"
             ],
             [
              1,
              "#f0f921"
             ]
            ],
            "type": "surface"
           }
          ],
          "table": [
           {
            "cells": {
             "fill": {
              "color": "#EBF0F8"
             },
             "line": {
              "color": "white"
             }
            },
            "header": {
             "fill": {
              "color": "#C8D4E3"
             },
             "line": {
              "color": "white"
             }
            },
            "type": "table"
           }
          ]
         },
         "layout": {
          "annotationdefaults": {
           "arrowcolor": "#2a3f5f",
           "arrowhead": 0,
           "arrowwidth": 1
          },
          "autotypenumbers": "strict",
          "coloraxis": {
           "colorbar": {
            "outlinewidth": 0,
            "ticks": ""
           }
          },
          "colorscale": {
           "diverging": [
            [
             0,
             "#8e0152"
            ],
            [
             0.1,
             "#c51b7d"
            ],
            [
             0.2,
             "#de77ae"
            ],
            [
             0.3,
             "#f1b6da"
            ],
            [
             0.4,
             "#fde0ef"
            ],
            [
             0.5,
             "#f7f7f7"
            ],
            [
             0.6,
             "#e6f5d0"
            ],
            [
             0.7,
             "#b8e186"
            ],
            [
             0.8,
             "#7fbc41"
            ],
            [
             0.9,
             "#4d9221"
            ],
            [
             1,
             "#276419"
            ]
           ],
           "sequential": [
            [
             0,
             "#0d0887"
            ],
            [
             0.1111111111111111,
             "#46039f"
            ],
            [
             0.2222222222222222,
             "#7201a8"
            ],
            [
             0.3333333333333333,
             "#9c179e"
            ],
            [
             0.4444444444444444,
             "#bd3786"
            ],
            [
             0.5555555555555556,
             "#d8576b"
            ],
            [
             0.6666666666666666,
             "#ed7953"
            ],
            [
             0.7777777777777778,
             "#fb9f3a"
            ],
            [
             0.8888888888888888,
             "#fdca26"
            ],
            [
             1,
             "#f0f921"
            ]
           ],
           "sequentialminus": [
            [
             0,
             "#0d0887"
            ],
            [
             0.1111111111111111,
             "#46039f"
            ],
            [
             0.2222222222222222,
             "#7201a8"
            ],
            [
             0.3333333333333333,
             "#9c179e"
            ],
            [
             0.4444444444444444,
             "#bd3786"
            ],
            [
             0.5555555555555556,
             "#d8576b"
            ],
            [
             0.6666666666666666,
             "#ed7953"
            ],
            [
             0.7777777777777778,
             "#fb9f3a"
            ],
            [
             0.8888888888888888,
             "#fdca26"
            ],
            [
             1,
             "#f0f921"
            ]
           ]
          },
          "colorway": [
           "#636efa",
           "#EF553B",
           "#00cc96",
           "#ab63fa",
           "#FFA15A",
           "#19d3f3",
           "#FF6692",
           "#B6E880",
           "#FF97FF",
           "#FECB52"
          ],
          "font": {
           "color": "#2a3f5f"
          },
          "geo": {
           "bgcolor": "white",
           "lakecolor": "white",
           "landcolor": "white",
           "showlakes": true,
           "showland": true,
           "subunitcolor": "#C8D4E3"
          },
          "hoverlabel": {
           "align": "left"
          },
          "hovermode": "closest",
          "mapbox": {
           "style": "light"
          },
          "paper_bgcolor": "white",
          "plot_bgcolor": "white",
          "polar": {
           "angularaxis": {
            "gridcolor": "#EBF0F8",
            "linecolor": "#EBF0F8",
            "ticks": ""
           },
           "bgcolor": "white",
           "radialaxis": {
            "gridcolor": "#EBF0F8",
            "linecolor": "#EBF0F8",
            "ticks": ""
           }
          },
          "scene": {
           "xaxis": {
            "backgroundcolor": "white",
            "gridcolor": "#DFE8F3",
            "gridwidth": 2,
            "linecolor": "#EBF0F8",
            "showbackground": true,
            "ticks": "",
            "zerolinecolor": "#EBF0F8"
           },
           "yaxis": {
            "backgroundcolor": "white",
            "gridcolor": "#DFE8F3",
            "gridwidth": 2,
            "linecolor": "#EBF0F8",
            "showbackground": true,
            "ticks": "",
            "zerolinecolor": "#EBF0F8"
           },
           "zaxis": {
            "backgroundcolor": "white",
            "gridcolor": "#DFE8F3",
            "gridwidth": 2,
            "linecolor": "#EBF0F8",
            "showbackground": true,
            "ticks": "",
            "zerolinecolor": "#EBF0F8"
           }
          },
          "shapedefaults": {
           "line": {
            "color": "#2a3f5f"
           }
          },
          "ternary": {
           "aaxis": {
            "gridcolor": "#DFE8F3",
            "linecolor": "#A2B1C6",
            "ticks": ""
           },
           "baxis": {
            "gridcolor": "#DFE8F3",
            "linecolor": "#A2B1C6",
            "ticks": ""
           },
           "bgcolor": "white",
           "caxis": {
            "gridcolor": "#DFE8F3",
            "linecolor": "#A2B1C6",
            "ticks": ""
           }
          },
          "title": {
           "x": 0.05
          },
          "xaxis": {
           "automargin": true,
           "gridcolor": "#EBF0F8",
           "linecolor": "#EBF0F8",
           "ticks": "",
           "title": {
            "standoff": 15
           },
           "zerolinecolor": "#EBF0F8",
           "zerolinewidth": 2
          },
          "yaxis": {
           "automargin": true,
           "gridcolor": "#EBF0F8",
           "linecolor": "#EBF0F8",
           "ticks": "",
           "title": {
            "standoff": 15
           },
           "zerolinecolor": "#EBF0F8",
           "zerolinewidth": 2
          }
         }
        },
        "title": {
         "text": "Regressione"
        },
        "xaxis": {
         "ticktext": [
          "1949-01",
          "1949-11",
          "1950-09",
          "1951-07",
          "1952-05",
          "1953-03",
          "1955-01",
          "1955-11",
          "1956-09",
          "1957-07",
          "1958-05",
          "1959-03",
          "1960-01",
          "1960-12"
         ],
         "tickvals": [
          "1949-01-01T00:00:00.000000000",
          "1949-11-01T00:00:00.000000000",
          "1950-09-01T00:00:00.000000000",
          "1951-07-01T00:00:00.000000000",
          "1952-05-01T00:00:00.000000000",
          "1953-03-01T00:00:00.000000000",
          "1955-01-01T00:00:00.000000000",
          "1955-11-01T00:00:00.000000000",
          "1956-09-01T00:00:00.000000000",
          "1957-07-01T00:00:00.000000000",
          "1958-05-01T00:00:00.000000000",
          "1959-03-01T00:00:00.000000000",
          "1960-01-01T00:00:00.000000000",
          "1960-12-01T00:00:00.000000000"
         ],
         "title": {
          "text": "Data"
         }
        },
        "yaxis": {
         "title": {
          "text": "Passeggeri"
         }
        }
       }
      }
     },
     "metadata": {},
     "output_type": "display_data"
    }
   ],
   "source": [
    "# plt.plot(df[\"mese_numerico\"], df[\"passengers\"], \"o\", alpha=0.8)\n",
    "plot_reg(df[\"mese_numerico\"], df[\"passengers\"], 2)"
   ]
  },
  {
   "cell_type": "markdown",
   "id": "640ee914",
   "metadata": {},
   "source": [
    "### Es2. \n",
    "Costruisci una web app con Dash che permette all’utente di scegliere il grado del polinomio per adattare un modello di regressione ai dati non lineari e vedere il risultato aggiornarsi dinamicamente.\n",
    "\n",
    "\n",
    "1. Genera 100 punti x tra -3 e 3.\n",
    "\n",
    "2. Calcola ad esempio y = x³ - x + rumore.\n",
    "\n",
    "3. Costruisci un'interfaccia Dash con:\n",
    "    - uno slider per scegliere il grado del polinomio (1–10),\n",
    "    - un grafico Plotly che mostra i dati e la curva stimata.\n",
    "\n",
    "4. Usa PolynomialFeatures + LinearRegression da scikit-learn per stimare la curva"
   ]
  },
  {
   "cell_type": "code",
   "execution_count": null,
   "id": "02d7b7c5",
   "metadata": {},
   "outputs": [],
   "source": []
  }
 ],
 "metadata": {
  "kernelspec": {
   "display_name": "Python 3",
   "language": "python",
   "name": "python3"
  },
  "language_info": {
   "codemirror_mode": {
    "name": "ipython",
    "version": 3
   },
   "file_extension": ".py",
   "mimetype": "text/x-python",
   "name": "python",
   "nbconvert_exporter": "python",
   "pygments_lexer": "ipython3",
   "version": "3.11.2"
  }
 },
 "nbformat": 4,
 "nbformat_minor": 5
}
