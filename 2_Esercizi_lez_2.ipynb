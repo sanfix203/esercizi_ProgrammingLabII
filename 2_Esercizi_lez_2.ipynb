{
 "cells": [
  {
   "cell_type": "markdown",
   "metadata": {},
   "source": [
    "### **1. Indicizzazione booleana**\n",
    "\n",
    "1. Creare un nuovo vettore con tutti i numeri primi tra 0 e 20. I numeri primi compresi tra 0 e 20 sono: **2, 3, 5, 7, 11, 13, 17, 19**.\n",
    "\n",
    "2. Utilizza un test logico (ad esempio `>`, `<`, `==`, `!=`) per **selezionare tutte le voci del vettore maggiori di 10**.\n",
    "\n",
    "3. Utilizza un test logico per selezionare **tutti i numeri primi pari** dalla lista.  \n"
   ]
  },
  {
   "cell_type": "code",
   "execution_count": 2,
   "metadata": {},
   "outputs": [
    {
     "data": {
      "text/plain": [
       "(array([11, 13, 17, 19]), array([2]))"
      ]
     },
     "execution_count": 2,
     "metadata": {},
     "output_type": "execute_result"
    }
   ],
   "source": [
    "import numpy as np\n",
    "prime_numbers = [n for n in range(2, 20) if all(n % i != 0 for i in range(2, n))]\n",
    "primes = np.array(prime_numbers)\n",
    "primes[primes>10], primes[primes%2==0]"
   ]
  },
  {
   "cell_type": "markdown",
   "metadata": {},
   "source": [
    "### **2.  Operazioni su array**\n",
    "Crea un array **a**, 2D (senza digitarlo esplicitamente), e genera due nuovi array **b**, contenente la sua 2ª e 4ª riga, e **c** contenente solo la 3ª.  Dividi ogni colonna dell'array a, elemento per elemento, con l'array c."
   ]
  },
  {
   "cell_type": "code",
   "execution_count": 3,
   "metadata": {},
   "outputs": [
    {
     "data": {
      "text/plain": [
       "(array([[8, 3, 3, 2, 7],\n",
       "        [2, 2, 2, 4, 3],\n",
       "        [4, 9, 5, 4, 2],\n",
       "        [6, 9, 1, 4, 5],\n",
       "        [4, 7, 9, 5, 1]]),\n",
       " array([2, 2, 2, 4, 3]),\n",
       " array([6, 9, 1, 4, 5]),\n",
       " array([4, 9, 5, 4, 2]),\n",
       " array([[2.        , 0.75      , 0.75      , 0.5       , 1.75      ],\n",
       "        [0.22222222, 0.22222222, 0.22222222, 0.44444444, 0.33333333],\n",
       "        [0.8       , 1.8       , 1.        , 0.8       , 0.4       ],\n",
       "        [1.5       , 2.25      , 0.25      , 1.        , 1.25      ],\n",
       "        [2.        , 3.5       , 4.5       , 2.5       , 0.5       ]]))"
      ]
     },
     "execution_count": 3,
     "metadata": {},
     "output_type": "execute_result"
    }
   ],
   "source": [
    "array_2d = np.random.randint(1, 10, (5, 5))\n",
    "b_1 = array_2d[1, :]\n",
    "b_2 = array_2d[3, :]\n",
    "c = array_2d[2, :]\n",
    "d = array_2d / c.reshape(-1, 1)\n",
    "array_2d, b_1, b_2, c, d"
   ]
  },
  {
   "cell_type": "markdown",
   "metadata": {},
   "source": [
    "### **3. Seleziona il numero più vicino a 0.5 in un array casuale**\n",
    "Genera un array 10 x 3 con numeri casuali nell'intervallo [0,1].\n",
    "Per ogni riga, seleziona il numero più vicino a 0.5. Per farlo usa il fancy indexing."
   ]
  },
  {
   "cell_type": "code",
   "execution_count": 4,
   "metadata": {},
   "outputs": [
    {
     "name": "stdout",
     "output_type": "stream",
     "text": [
      "Array: [[3.41174748e-01 4.44382181e-01 1.09639845e-01]\n",
      " [1.04677443e-01 4.04819166e-01 2.83739561e-02]\n",
      " [9.19245588e-01 8.21388019e-01 3.27051671e-01]\n",
      " [4.23228997e-01 4.73202284e-01 8.75010529e-01]\n",
      " [8.48671541e-02 9.92956306e-01 9.88562137e-01]\n",
      " [6.68538502e-01 5.96464661e-01 9.18300314e-01]\n",
      " [4.08522630e-01 1.93233732e-01 9.44853340e-01]\n",
      " [4.77562511e-01 6.94179706e-01 4.17613495e-01]\n",
      " [9.81544585e-01 8.70249527e-01 4.29779097e-01]\n",
      " [8.00034338e-01 2.72813099e-04 8.13982221e-02]]\n",
      "Line 1: 0.4443821813740524\n",
      "Line 2: 0.4048191655745541\n",
      "Line 3: 0.32705167133829505\n",
      "Line 4: 0.47320228351703086\n",
      "Line 5: 0.08486715409377699\n",
      "Line 6: 0.5964646606682336\n",
      "Line 7: 0.4085226303280801\n",
      "Line 8: 0.4775625106483371\n",
      "Line 9: 0.4297790973057046\n",
      "Line 10: 0.800034337963981\n"
     ]
    }
   ],
   "source": [
    "array_2d = np.random.random((10, 3))\n",
    "array_2d[1,  :]\n",
    "print(f\"Array: {array_2d}\")\n",
    "for line in range(len(array_2d)):\n",
    "    print(f\"Line {line+1}: {array_2d[line, :][np.abs(array_2d[line, :] - 0.5).argmin()]}\")"
   ]
  },
  {
   "cell_type": "markdown",
   "metadata": {},
   "source": [
    "### **4. Analisi della Frequenza Cardiaca con NumPy**\n",
    "\n",
    "1. **Supponiamo che i seguenti valori rappresentino la tua frequenza cardiaca** registrata dal tuo Fitbit durante la giornata:  \n",
    "   `68, 65, 77, 110, 160, 161, 162, 161, 160, 161, 162, 163, 164, 163, 162, 100, 90, 97, 72, 60, 70`  \n",
    "   Inserisci questi valori in un array NumPy.\n",
    "\n",
    "2. **Trova la frequenza cardiaca minima** registrata durante la giornata.  \n",
    "   _(Questo valore rappresenta approssimativamente la tua frequenza cardiaca a riposo, un comune indicatore di salute.)_\n",
    "\n",
    "3. **Trova la frequenza cardiaca massima** registrata durante la giornata.  \n",
    "   _(Questo valore è un'indicazione dell'intensità dell'esercizio fisico.)_\n",
    "\n",
    "4. **Calcoliamo la percentuale di letture effettuate mentre stavi facendo esercizio fisico (frequenza cardiaca sopra a 120)**:  \n",
    "   - Crea un nuovo array che contiene `True` quando la frequenza cardiaca è **superiore a 120**, e `False` quando è **inferiore o uguale a 120**.\n",
    "   - Utilizza una funzione di sintesi per calcolare la percentuale di osservazioni in cui la tua frequenza cardiaca era sopra 120.\n"
   ]
  },
  {
   "cell_type": "code",
   "execution_count": 5,
   "metadata": {},
   "outputs": [
    {
     "data": {
      "text/plain": [
       "(60, 164, 52.38095238095239)"
      ]
     },
     "execution_count": 5,
     "metadata": {},
     "output_type": "execute_result"
    }
   ],
   "source": [
    "heart_frequency = np.array([68, 65, 77, 110, 160, 161, 162, 161, 160, 161, 162, 163, 164, 163, 162, 100, 90, 97, 72, 60, 70])\n",
    "minValue = heart_frequency.min()\n",
    "maxValue = heart_frequency.max()\n",
    "reads = heart_frequency > 120\n",
    "percentage = np.sum(reads) / len(heart_frequency) * 100\n",
    "minValue, maxValue, percentage"
   ]
  },
  {
   "cell_type": "markdown",
   "metadata": {},
   "source": [
    "### **5. Manipolazione di vettori**\n",
    "\n",
    "1. Creare un vettore contenente i seguenti stipendi: **50.000, 105.250, 55.000, 89.000**.  \n",
    "Qual è il costo totale del personale (somma di tutti gli stipendi dell'azienda)?\n",
    "\n",
    "2. Supponiamo che il nostro malvagio CEO abbia deciso di darsi un aumento.  \n",
    "Modifica il vettore degli stipendi in modo che il CEO, la persona che guadagna **105.250 dollari**, riceva un aumento del **15%**.\n",
    "\n",
    "3. Il **115%** di **105.250 dollari** è **121.037,50 dollari**.  \n",
    "Questo valore è presente nel tuo array? Se no, riesci a capire il motivo?\n",
    "\n",
    "4. Ricrea il vettore e utilizza l'argomento **`dtype`** in modo che, quando il CEO riceve un aumento del **15%**, il suo stipendio finale sia esattamente **121.037,50 dollari**.\n",
    "\n",
    "5. Questo aumento ha infastidito l'impiegata con lo stipendio più basso (**50.000 dollari**), che ora pretende un aumento del **20%**.  \n",
    "Modifica il vettore per riflettere questo cambiamento.\n",
    "\n",
    "6. L'aumento dato al CEO e all'impiegata ha irritato gli altri due dipendenti, quindi ora devono ricevere un aumento del **10%**.  \n",
    "Modifica il vettore di conseguenza.\n",
    "\n",
    "7. Calcola il **costo totale del personale** dopo tutti gli aumenti.  \n",
    "Alla fine, quanto è costato all'azienda l'aumento di circa **16.000 dollari** del CEO?\n"
   ]
  },
  {
   "cell_type": "code",
   "execution_count": 6,
   "metadata": {},
   "outputs": [
    {
     "name": "stdout",
     "output_type": "stream",
     "text": [
      "Total: 299250\n",
      "Total: 339437.5\n",
      "Difference: 40187.5\n"
     ]
    },
    {
     "data": {
      "text/plain": [
       "array([ 60000.004, 121037.5  ,  60500.   ,  97900.   ], dtype=float32)"
      ]
     },
     "execution_count": 6,
     "metadata": {},
     "output_type": "execute_result"
    }
   ],
   "source": [
    "salaries = np.array([50_000, 105_250, 55_000, 89_000])\n",
    "totalA = np.sum(salaries)\n",
    "print(f\"Total: {totalA}\")\n",
    "salaries[salaries == 105_250] = salaries[salaries == 105_250] * 1.15\n",
    "# non viene conservata la parte decimale essendo un array di interi\n",
    "\n",
    "salaries = np.array([50_000, 105_250, 55_000, 89_000], dtype=np.float32)\n",
    "salaries[salaries == 105_250] *= 1.15\n",
    "salaries[salaries == 50_000] *= 1.2\n",
    "salaries[~np.isin(np.round(salaries, 2), [60_000, 121_037.50])] *= 1.1\n",
    "totalB = np.sum(salaries)\n",
    "print(f\"Total: {totalB}\")\n",
    "\n",
    "print(f\"Difference: {totalB-totalA}\")\n",
    "\n",
    "\n",
    "salaries"
   ]
  },
  {
   "cell_type": "markdown",
   "metadata": {},
   "source": [
    "### **6. Valori di Co2**\n",
    "\n",
    "1. Carica tramite numpy il file generato e salvato a lezione sulle emissioni di CO2\n",
    "\n",
    "2. Calcola quanti valori ci CO2 sono sopra la soglia di 18  tonnellate per anno ed il loro valore medio\n",
    "\n",
    "3. Calcola la frazione totale di emissione sopra la soglia (somma totale sopra la soglia/somma totale)"
   ]
  },
  {
   "cell_type": "code",
   "execution_count": 13,
   "metadata": {},
   "outputs": [
    {
     "data": {
      "text/plain": [
       "(array([19.37, 19.98, 14.36,  5.49,  4.45, 10.34, 17.85,  5.09, 11.81,\n",
       "        17.88,  9.  , 18.23, 13.36, 11.16,  7.18, 17.52, 19.93, 12.79,\n",
       "        19.23,  9.98,  9.86, 13.94, 10.12,  4.1 , 12.49, 13.16, 10.63,\n",
       "        14.64,  6.43, 13.26, 17.11, 10.1 , 13.9 ,  8.36,  5.91,  9.71,\n",
       "         6.75, 15.74, 12.79, 11.7 ,  5.29,  4.29, 12.92,  4.23,  8.88,\n",
       "         9.77,  7.79, 11.14,  9.95, 15.79,  6.36, 10.2 , 14.81, 17.71,\n",
       "        19.35, 12.87,  6.45,  5.92,  8.43,  8.67,  4.3 , 19.59, 12.76,\n",
       "        19.91, 10.19,  5.7 ,  6.59, 11.4 ,  4.73, 18.99, 11.77,  4.91,\n",
       "        16.38, 17.79,  9.12,  8.17,  5.34,  9.2 ,  8.8 , 13.36, 16.39,\n",
       "        19.81, 18.16,  9.53, 15.16,  8.83, 10.05,  7.19,  4.57, 17.04,\n",
       "        13.03, 15.25, 13.82,  7.64, 11.24, 17.67,  6.82,  6.9 , 13.7 ,\n",
       "        10.32,  4.59, 17.34, 19.34,  8.39, 10.81, 16.53,  8.24,  8.36,\n",
       "        19.04, 15.28, 16.79, 18.79, 10.46,  4.04, 11.51, 14.67,  4.53,\n",
       "         6.31, 12.26, 18.4 , 16.51,  9.45, 10.05,  9.46, 17.95,  6.7 ,\n",
       "        15.4 ,  5.86, 12.85, 14.56, 14.27, 17.16, 13.94, 14.99,  4.04,\n",
       "        10.15, 10.35, 14.54, 14.06,  8.05, 18.96, 17.53, 14.53, 15.23,\n",
       "        11.56,  5.  , 11.  ,  8.86,  5.26, 11.89,  6.84, 18.35,  9.93,\n",
       "         6.9 , 19.75, 15.1 , 18.31, 12.07, 18.13,  8.48, 12.96, 17.77,\n",
       "        18.32,  4.41,  8.06,  9.93,  4.53,  9.3 ,  4.39,  5.14, 17.24,\n",
       "        16.33, 12.88, 18.31, 11.14,  4.28, 16.93, 16.72,  6.31, 14.85,\n",
       "         9.34, 13.91, 13.7 , 13.56, 14.64, 19.87, 10.78, 12.69, 17.11,\n",
       "        19.39, 11.78, 11.32, 12.43, 16.25, 12.11,  8.22, 14.41,  8.01,\n",
       "        16.83, 17.49]),\n",
       " 'localdataset/co2.txt')"
      ]
     },
     "execution_count": 13,
     "metadata": {},
     "output_type": "execute_result"
    }
   ],
   "source": [
    "co2_emissions = np.round(np.random.uniform(4, 20, 200), 2)\n",
    "output_file = \"localdataset/co2.txt\"\n",
    "np.savetxt(output_file, co2_emissions, fmt=\"%.2f\")\n",
    "co2_emissions, output_file"
   ]
  },
  {
   "cell_type": "code",
   "execution_count": 15,
   "metadata": {},
   "outputs": [
    {
     "data": {
      "text/plain": [
       "(126, 14.873730158730158, 0.63)"
      ]
     },
     "execution_count": 15,
     "metadata": {},
     "output_type": "execute_result"
    }
   ],
   "source": [
    "co2_emissions = np.loadtxt(output_file)\n",
    "highCO2 = co2_emissions[co2_emissions > 10]\n",
    "len(highCO2), highCO2.mean(), len(highCO2)/len(co2_emissions)"
   ]
  },
  {
   "cell_type": "markdown",
   "metadata": {},
   "source": [
    "### **7. Analisi di una matrice**\n",
    "Data la matrice survey con età, reddito e anni di istruzione\n",
    "\n",
    "survey_matrix = np.array([\n",
    "    [25, 40000, 10],\n",
    "    [32, 52000, 12],\n",
    "    [40, 63000, 14],\n",
    "    [29, 47000, 11],\n",
    "    [35, 58000, 13]\n",
    "])\n",
    "\n",
    "\n",
    "1. Seleziona dalla matrice solo gli intervistati con **almeno 12 anni di istruzione** utilizzando un test logico.\n",
    "\n",
    "2. In un'unica riga di codice, seleziona i **redditi** degli intervistati con **almeno 12 anni di istruzione**.\n",
    "\n",
    "3. In un'unica riga di codice, calcola il **reddito medio** degli intervistati con **almeno 12 anni di istruzione**.\n"
   ]
  },
  {
   "cell_type": "code",
   "execution_count": null,
   "metadata": {},
   "outputs": [
    {
     "data": {
      "text/plain": [
       "(array([[   32, 52000,    12],\n",
       "        [   40, 63000,    14],\n",
       "        [   35, 58000,    13]]),\n",
       " array([52000, 63000, 58000]),\n",
       " 57666.666666666664)"
      ]
     },
     "execution_count": 54,
     "metadata": {},
     "output_type": "execute_result"
    }
   ],
   "source": [
    "survey_matrix = np.array([\n",
    "    [25, 40000, 10],\n",
    "    [32, 52000, 12],\n",
    "    [40, 63000, 14],\n",
    "    [29, 47000, 11],\n",
    "    [35, 58000, 13]\n",
    "])\n",
    "\n",
    "survey_matrix[survey_matrix[:, 2] >= 12], survey_matrix[survey_matrix[:, 2] >= 12][:, 1], survey_matrix[survey_matrix[:, 2] >= 12][:, 1].mean()"
   ]
  },
  {
   "cell_type": "markdown",
   "metadata": {},
   "source": []
  },
  {
   "cell_type": "code",
   "execution_count": null,
   "metadata": {},
   "outputs": [],
   "source": []
  },
  {
   "cell_type": "markdown",
   "metadata": {},
   "source": [
    "### **8. Rimpiazzare gli outliers**\n",
    "\n",
    "Vediamo se possiamo ripulire alcuni dati mancanti. Immagina di essere il responsabile dei registri di un comune locale con **500 cittadini** di **55 anni e oltre**.  \n",
    "\n",
    "La città è famosa per la sua longevità e un team di ricercatori ti ha chiesto di identificare **il cittadino più anziano**.  \n",
    "\n",
    "Il problema è che, occasionalmente, nei registri si verificano errori e in quei casi viene inserita l'età **999** invece dell'età corretta.  \n",
    "\n",
    "Rimuovi i dati errati dall'array e determina l'età del cittadino più anziano.\n"
   ]
  },
  {
   "cell_type": "code",
   "execution_count": null,
   "metadata": {},
   "outputs": [
    {
     "data": {
      "text/plain": [
       "array([ 92, 108,  75,  63,  62,  66,  90,  98,  97,  92,  60, 107,  90,\n",
       "        71,  97,  86,  55,  55,  98,  57,  96, 104,  96,  94,  72,  98,\n",
       "       111,  98,  89,  69,  77,  92,  85, 101,  93, 100,  90, 101,  96,\n",
       "        98,  87, 106,  86, 108,  55,  67,  65,  68,  59,  67,  72,  57,\n",
       "        79,  95,  67,  86,  70,  91, 111,  67,  75,  59,  88,  90,  99,\n",
       "        94,  65, 111, 103, 100,  70,  63,  65, 100, 110,  70,  57,  75,\n",
       "        56, 104, 111,  90,  74, 100,  90,  86,  88,  99,  58, 103,  88,\n",
       "       103,  64,  96, 105,  89,  83,  65, 100,  62,  73, 105,  83, 105,\n",
       "        58,  96,  77,  74,  95, 109,  91, 101,  91,  63, 111,  97, 108,\n",
       "        75,  77,  73,  58,  94,  83,  90,  61, 110, 107, 105,  85,  64,\n",
       "        66,  71, 107, 105,  72,  78,  66, 100, 102,  72,  74,  68,  73,\n",
       "        72,  90,  93,  99,  55,  92,  83,  58,  71,  89,  75,  98,  87,\n",
       "        78,  97,  71, 106,  83,  58,  81, 100,  72,  93,  70,  65,  60,\n",
       "        95, 107,  94,  77,  87,  90,  82,  56,  99, 107,  86,  56,  73,\n",
       "        96,  64,  69,  64,  92,  57, 104, 110,  69,  66,  68,  84,  89,\n",
       "        72,  80,  55,  75,  87,  57, 106,  69,  66,  62, 102,  76, 111,\n",
       "        96,  83,  84,  61, 102,  63, 107,  63,  76,  58,  83,  58,  61,\n",
       "        71,  77,  90,  74, 100, 103,  74,  92, 102,  63,  87,  93,  61,\n",
       "        63,  86,  74,  98,  64,  78,  95,  84,  81, 107,  85,  79,  82,\n",
       "        89,  65, 107,  57,  74,  77,  97,  92,  58,  96, 105,  60,  55,\n",
       "        74,  57,  80,  62,  85,  87,  62,  71,  74,  70,  97,  59,  82,\n",
       "        96, 105,  70,  89, 105,  60,  70,  87,  64, 108, 107, 104,  85,\n",
       "        95, 108,  74,  64,  97,  89,  88,  79,  67,  81,  92,  63,  80,\n",
       "        76,  94, 104,  67,  73,  61,  99,  96,  68,  90,  86,  79,  85,\n",
       "       111,  75,  98,  81, 111, 108, 103,  85,  72, 108, 102,  64, 107,\n",
       "       112,  66,  93,  89,  78,  66,  92,  63, 101,  92,  64,  72,  56,\n",
       "        71,  64,  87,  78, 107,  85, 109,  95,  69, 111,  64,  72,  55,\n",
       "        66,  99,  57,  78,  55,  58,  90,  88,  71,  90, 103,  92,  98,\n",
       "        67,  97,  77,  68,  77,  59,  78,  69,  77,  81,  61,  99,  85,\n",
       "        78, 104,  97,  95,  74,  70,  69,  83,  68,  68,  77,  60,  85,\n",
       "        82,  93,  66,  71,  62,  64, 107,  65,  78,  59,  83,  67, 108,\n",
       "        58,  95, 106,  83,  79,  67,  59,  96,  90,  55,  55,  96, 109,\n",
       "        82,  55, 101,  58,  97,  77,  60,  81,  81,  75, 100,  66,  65,\n",
       "       105,  94, 101,  56,  59, 105,  59,  93,  56, 104,  74,  81,  62,\n",
       "        76,  65, 107,  60, 107,  98,  77,  86,  83, 104,  74,  69,  97,\n",
       "        80,  91,  56, 108,  87,  65,  91,  93,  60,  91, 110, 107,  88,\n",
       "        96,  70,  60,  99,  66,  91, 107,  65,  81, 109,  84, 106,  80,\n",
       "        92,  78,  84,  91,  59])"
      ]
     },
     "execution_count": 59,
     "metadata": {},
     "output_type": "execute_result"
    }
   ],
   "source": [
    "ages = np.array([92, 108, 75, 63, 62, 66, 90, 98, 97, 92, 60, 107, 90, 71, 97, 86, 55, 55,\n",
    "                 98, 57, 96, 104, 96, 94, 72, 98, 111, 98, 89, 69, 77, 92, 85, 101, 93, 100,\n",
    "                 90, 101, 96, 98, 999, 87, 106, 86, 108, 55, 67, 65, 68, 59, 67, 72, 57, 79,\n",
    "                 95, 67, 86, 70, 91, 111, 67, 75, 59, 88, 90, 99, 94, 65, 111, 103, 100, 70,\n",
    "                 63, 65, 100, 110, 999, 70, 57, 75, 56, 104, 111, 90, 74, 100, 90, 86, 88, 99,\n",
    "                 58, 103, 88, 103, 64, 96, 105, 89, 83, 65, 100, 62, 73, 105, 83, 105, 58, 96,\n",
    "                 77, 74, 95, 109, 91, 101, 91, 999, 63, 111, 97, 108, 75, 77, 73, 58, 94, 83,\n",
    "                 90, 61, 110, 107, 105, 85, 64, 66, 71, 107, 105, 72, 78, 66, 100, 102, 72, 999,\n",
    "                 74, 68, 73, 72, 90, 93, 99, 55, 92, 83, 58, 71, 89, 75, 98, 87, 999, 78,\n",
    "                 97, 71, 106, 83, 58, 81, 100, 72, 93, 70, 65, 60, 95, 107, 94, 77, 87, 90,\n",
    "                 82, 56, 99, 107, 86, 56, 73, 96, 64, 69, 64, 92, 57, 104, 110, 69, 66, 68,\n",
    "                 84, 89, 72, 80, 55, 75, 87, 57, 106, 69, 66, 62, 102, 76, 111, 999, 96, 83,\n",
    "                 84, 61, 102, 63, 107, 63, 76, 58, 83, 58, 61, 71, 77, 90, 74, 100, 103, 74,\n",
    "                 92, 102, 63, 87, 93, 61, 63, 86, 74, 98, 64, 999, 78, 95, 84, 81, 107, 85,\n",
    "                 79, 82, 89, 65, 107, 57, 74, 77, 97, 92, 58, 96, 105, 60, 55, 74, 57, 80,\n",
    "                 62, 85, 87, 62, 999, 71, 74, 70, 97, 59, 82, 96, 105, 70, 89, 105, 60, 70,\n",
    "                 87, 999, 64, 108, 107, 104, 85, 95, 108, 74, 64, 97, 89, 88, 79, 67, 81, 92,\n",
    "                 63, 80, 76, 94, 104, 67, 73, 61, 99, 96, 68, 90, 86, 79, 85, 111, 75, 98,\n",
    "                 81, 111, 108, 103, 85, 72, 108, 102, 999, 64, 107, 112, 66, 93, 89, 78, 66, 92,\n",
    "                 63, 101, 92, 64, 72, 56, 71, 64, 87, 78, 107, 85, 109, 95, 69, 111, 64, 72,\n",
    "                 55, 66, 99, 57, 78, 55, 58, 90, 88, 71, 90, 103, 92, 98, 67, 97, 77, 68,\n",
    "                 77, 59, 78, 69, 77, 81, 61, 99, 999, 85, 78, 104, 97, 95, 74, 70, 69, 83,\n",
    "                 68, 68, 77, 60, 85, 82, 93, 66, 71, 62, 64, 107, 999, 65, 78, 59, 83, 67,\n",
    "                 108,  58,  95, 106,  83,  79,  67,  59,  96,  90,  55,  55,  96, 109,  82,  55, 101,  58,\n",
    "                 97, 77, 60, 81, 999, 81, 75, 100, 66, 65, 105, 94, 101, 56, 999, 59, 105, 59,\n",
    "                 93, 56, 104, 74, 81, 62, 76, 65, 107, 60, 107, 98, 77, 86, 83, 104, 74, 69,\n",
    "                 97, 80, 91, 56, 108, 87, 65, 91, 93, 60, 91, 110, 107, 88, 96, 70, 60, 99,\n",
    "                 66, 91, 107, 65, 81, 109, 84, 106, 80, 92, 78, 84, 91, 59])\n",
    "\n",
    "\n",
    "ages = ages[ages != 999]\n",
    "ages"
   ]
  },
  {
   "cell_type": "markdown",
   "metadata": {},
   "source": [
    "### 9.**Generazione random di storie**\n",
    "\n",
    "Usando la lista qui sotto, estrai casualmente **5 parole con reinserimento** (cioè, i duplicati sono ammessi).  \n",
    "\n",
    "Successivamente, inserisci casualmente queste parole negli spazi vuoti (indicati con \"_\") nella seguente frase:\n",
    "\n",
    "*\"In epoche passate, viveva una donna saggia che era molto orgogliosa dell'antico __ che proteggeva. Quando un anziano del villaggio venne a chiederle consiglio su come garantire al meglio un raccolto abbondante e le offrì il __ come dono, i suoi occhi si spalancarono e lei esclamò una sola parola, \"__\".  \n",
    "Radunò il villaggio e, per i successivi 100 giorni, su sua richiesta, gli abitanti cercarono nella foresta un __.  \n",
    "Nel 101° giorno, il bambino più giovane del villaggio trovò ciò che stavano cercando e tutti corsero dalla donna saggia per donarglielo.  \n",
    "Con un sorriso da un orecchio all’altro, e cantando canti di festa, la donna saggia guardò i suoi compaesani e disse: \"Ora è giunto il tempo del banchetto - nessuno rimarrà mai più senza _!\" Ci fu grande gioia e celebrazione.\"*\n"
   ]
  },
  {
   "cell_type": "code",
   "execution_count": null,
   "metadata": {},
   "outputs": [
    {
     "name": "stdout",
     "output_type": "stream",
     "text": [
      "In epoche passate, viveva una donna saggia che era molto orgogliosa dell'antico BATTERIA che proteggeva. Quando un anziano del villaggio venne a chiederle consiglio su come garantire al meglio un raccolto abbondante e le offrì il INSEDIAMENTO come dono, i suoi occhi si spalancarono e lei esclamò una sola parola, \"ALFABETIZZAZIONE\".\n",
      "Radunò il villaggio e, per i successivi 100 giorni, su sua richiesta, gli abitanti cercarono nella foresta un DIFFERENZA.\"\n",
      "Nel 101° giorno, il bambino più giovane del villaggio trovò ciò che stavano cercando e tutti corsero dalla donna saggia per donarglielo.   Con un sorriso da un orecchio all’altro, e cantando canti di festa, la donna saggia guardò i suoi compaesani e disse: \"Ora è giunto il tempo del banchetto - nessuno rimarrà mai più senza SEPARAZIONE!\" Ci fu grande gioia e celebrazione.\n"
     ]
    }
   ],
   "source": [
    "lista_parole = [\n",
    "    'INSEDIAMENTO', 'SEPARAZIONE', 'DIFFERENZA', 'APPLICAZIONE', 'ATTEGGIAMENTO', 'VERDURA', 'IMPERO', 'RICEVIMENTO',\n",
    "    'IGNORANZA', 'BIOGRAFIA', 'VISIONE', 'AGENTE DI POLIZIA', 'PROVA', 'PRESTAZIONE', 'PRESENTAZIONE', 'PARENTE',\n",
    "    'GIUSTIFICAZIONE', 'FILOSOFIA', 'DIREZIONE', 'BENEFICIARIO', 'BATTERIA', 'CERIMONIA', 'AGONIA', 'RECUPERO',\n",
    "    'ALFABETIZZAZIONE', 'CONSEGNA', 'SERBATOIO', 'VOLONTARIO', 'DEPOSITO', 'BIRILLO DA BOWLING', 'NEMICO', 'ANNUNCIO',\n",
    "    'CARAMELLA ZUCCHERATA', 'FULMINE', 'PALLONCINO', 'COPERTA', 'SCOPERTA', 'PENALITÀ', 'GENERALE', 'ALPACA',\n",
    "    'VANTAGGIO', 'HOT DOG', 'ABITO', 'MATEMATICA', 'VARIANTE'\n",
    "]\n",
    "\n",
    "random_words = np.random.choice(lista_parole, 5, replace=True)\n",
    "\n",
    "print(\"In epoche passate, viveva una donna saggia che era molto orgogliosa dell'antico %s che proteggeva. Quando un anziano del villaggio venne a chiederle consiglio su come garantire al meglio un raccolto abbondante e le offrì il %s come dono, i suoi occhi si spalancarono e lei esclamò una sola parola, \\\"%s\\\".\\nRadunò il villaggio e, per i successivi 100 giorni, su sua richiesta, gli abitanti cercarono nella foresta un %s.\\\"\\nNel 101° giorno, il bambino più giovane del villaggio trovò ciò che stavano cercando e tutti corsero dalla donna saggia per donarglielo.   Con un sorriso da un orecchio all’altro, e cantando canti di festa, la donna saggia guardò i suoi compaesani e disse: \\\"Ora è giunto il tempo del banchetto - nessuno rimarrà mai più senza %s!\\\" Ci fu grande gioia e celebrazione.\" % tuple(random_words))"
   ]
  },
  {
   "cell_type": "code",
   "execution_count": null,
   "metadata": {},
   "outputs": [],
   "source": []
  },
  {
   "cell_type": "markdown",
   "metadata": {},
   "source": [
    "Esempio di output\n",
    "\n",
    "\n",
    "\"In epoche passate, viveva una donna saggia che era molto orgogliosa dell'antico APPLICAZIONE che proteggeva. \n",
    "Quando un anziano del villaggio venne a chiederle consiglio su come garantire al meglio un raccolto abbondante \n",
    "e le offrì il DEPOSITO come dono, i suoi occhi si spalancarono e lei esclamò una sola parola, \"PRESTAZIONE\".  \n",
    "\n",
    "Radunò il villaggio e, per i successivi 100 giorni, su sua richiesta, gli abitanti cercarono nella foresta un BIRILLO DA BOWLING. \n",
    "Nel 101° giorno, il bambino più giovane del villaggio trovò ciò che stavano cercando e tutti corsero dalla donna saggia per donarglielo. \n",
    "Con un sorriso da un orecchio all’altro, e cantando canti di festa, la donna saggia guardò i suoi compaesani e disse: \n",
    "\"Ora è giunto il tempo del banchetto - nessuno rimarrà mai più senza GIUSTIFICAZIONE!\"  \n",
    "\n",
    "Ci fu grande gioia e celebrazione.\""
   ]
  },
  {
   "cell_type": "code",
   "execution_count": null,
   "metadata": {},
   "outputs": [],
   "source": []
  }
 ],
 "metadata": {
  "kernelspec": {
   "display_name": "Python 3",
   "language": "python",
   "name": "python3"
  },
  "language_info": {
   "codemirror_mode": {
    "name": "ipython",
    "version": 3
   },
   "file_extension": ".py",
   "mimetype": "text/x-python",
   "name": "python",
   "nbconvert_exporter": "python",
   "pygments_lexer": "ipython3",
   "version": "3.11.2"
  }
 },
 "nbformat": 4,
 "nbformat_minor": 2
}
